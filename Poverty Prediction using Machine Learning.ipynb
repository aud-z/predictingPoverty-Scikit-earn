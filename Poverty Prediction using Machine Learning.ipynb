{
 "cells": [
  {
   "cell_type": "markdown",
   "metadata": {},
   "source": [
    "# Poverty Prediction using Machine Learning\n",
    "### Python for Data Science Final Project\n",
    "### Audrey Zhang"
   ]
  },
  {
   "cell_type": "markdown",
   "metadata": {},
   "source": [
    "The goal of this project is to build a predictive model to predict the probability that an individual lives below the poverty line (Poverty Probability Index, or PPI) using a set of metrics about the individual's life. \n",
    "\n",
    "The dataset was obtained from Kaggle.com and can be downloaded here:\n",
    "\n",
    "https://www.kaggle.com/johnnyyiu/predicting-poverty"
   ]
  },
  {
   "cell_type": "code",
   "execution_count": 1,
   "metadata": {},
   "outputs": [],
   "source": [
    "# Import libraries\n",
    "\n",
    "import numpy as np\n",
    "import pandas as pd\n",
    "import matplotlib\n",
    "import matplotlib.pyplot as plt\n",
    "import seaborn as sns\n",
    "from sklearn.tree import DecisionTreeRegressor\n",
    "from sklearn.linear_model import LinearRegression\n",
    "from sklearn.model_selection import train_test_split\n",
    "from sklearn.metrics import mean_squared_error\n",
    "from math import sqrt\n",
    "%matplotlib inline"
   ]
  },
  {
   "cell_type": "code",
   "execution_count": 45,
   "metadata": {},
   "outputs": [],
   "source": [
    "features=pd.read_csv('./predicting-poverty/train_values.csv')"
   ]
  },
  {
   "cell_type": "code",
   "execution_count": 46,
   "metadata": {},
   "outputs": [],
   "source": [
    "values=pd.read_csv('./predicting-poverty/train_labels.csv')"
   ]
  },
  {
   "cell_type": "code",
   "execution_count": 47,
   "metadata": {},
   "outputs": [
    {
     "data": {
      "text/plain": [
       "(12600, 59)"
      ]
     },
     "execution_count": 47,
     "metadata": {},
     "output_type": "execute_result"
    }
   ],
   "source": [
    "features.shape"
   ]
  },
  {
   "cell_type": "code",
   "execution_count": 48,
   "metadata": {},
   "outputs": [
    {
     "data": {
      "text/plain": [
       "(12600, 2)"
      ]
     },
     "execution_count": 48,
     "metadata": {},
     "output_type": "execute_result"
    }
   ],
   "source": [
    "values.shape"
   ]
  },
  {
   "cell_type": "code",
   "execution_count": 49,
   "metadata": {},
   "outputs": [
    {
     "data": {
      "text/html": [
       "<div>\n",
       "<style scoped>\n",
       "    .dataframe tbody tr th:only-of-type {\n",
       "        vertical-align: middle;\n",
       "    }\n",
       "\n",
       "    .dataframe tbody tr th {\n",
       "        vertical-align: top;\n",
       "    }\n",
       "\n",
       "    .dataframe thead th {\n",
       "        text-align: right;\n",
       "    }\n",
       "</style>\n",
       "<table border=\"1\" class=\"dataframe\">\n",
       "  <thead>\n",
       "    <tr style=\"text-align: right;\">\n",
       "      <th></th>\n",
       "      <th>row_id</th>\n",
       "      <th>country</th>\n",
       "      <th>is_urban</th>\n",
       "      <th>age</th>\n",
       "      <th>female</th>\n",
       "      <th>married</th>\n",
       "      <th>religion</th>\n",
       "      <th>relationship_to_hh_head</th>\n",
       "      <th>education_level</th>\n",
       "      <th>literacy</th>\n",
       "      <th>...</th>\n",
       "      <th>reg_formal_nbfi_account</th>\n",
       "      <th>financially_included</th>\n",
       "      <th>active_bank_user</th>\n",
       "      <th>active_mm_user</th>\n",
       "      <th>active_formal_nbfi_user</th>\n",
       "      <th>active_informal_nbfi_user</th>\n",
       "      <th>nonreg_active_mm_user</th>\n",
       "      <th>num_formal_institutions_last_year</th>\n",
       "      <th>num_informal_institutions_last_year</th>\n",
       "      <th>num_financial_activities_last_year</th>\n",
       "    </tr>\n",
       "  </thead>\n",
       "  <tbody>\n",
       "    <tr>\n",
       "      <th>0</th>\n",
       "      <td>0</td>\n",
       "      <td>C</td>\n",
       "      <td>False</td>\n",
       "      <td>18.0</td>\n",
       "      <td>True</td>\n",
       "      <td>True</td>\n",
       "      <td>P</td>\n",
       "      <td>Other</td>\n",
       "      <td>1.0</td>\n",
       "      <td>True</td>\n",
       "      <td>...</td>\n",
       "      <td>False</td>\n",
       "      <td>True</td>\n",
       "      <td>True</td>\n",
       "      <td>False</td>\n",
       "      <td>False</td>\n",
       "      <td>False</td>\n",
       "      <td>False</td>\n",
       "      <td>1</td>\n",
       "      <td>0</td>\n",
       "      <td>1</td>\n",
       "    </tr>\n",
       "    <tr>\n",
       "      <th>1</th>\n",
       "      <td>1</td>\n",
       "      <td>C</td>\n",
       "      <td>True</td>\n",
       "      <td>30.0</td>\n",
       "      <td>True</td>\n",
       "      <td>True</td>\n",
       "      <td>P</td>\n",
       "      <td>Other</td>\n",
       "      <td>1.0</td>\n",
       "      <td>True</td>\n",
       "      <td>...</td>\n",
       "      <td>False</td>\n",
       "      <td>True</td>\n",
       "      <td>True</td>\n",
       "      <td>False</td>\n",
       "      <td>False</td>\n",
       "      <td>False</td>\n",
       "      <td>False</td>\n",
       "      <td>1</td>\n",
       "      <td>0</td>\n",
       "      <td>0</td>\n",
       "    </tr>\n",
       "  </tbody>\n",
       "</table>\n",
       "<p>2 rows × 59 columns</p>\n",
       "</div>"
      ],
      "text/plain": [
       "   row_id country  is_urban   age  female  married religion  \\\n",
       "0       0       C     False  18.0    True     True        P   \n",
       "1       1       C      True  30.0    True     True        P   \n",
       "\n",
       "  relationship_to_hh_head  education_level  literacy  ...  \\\n",
       "0                   Other              1.0      True  ...   \n",
       "1                   Other              1.0      True  ...   \n",
       "\n",
       "   reg_formal_nbfi_account  financially_included  active_bank_user  \\\n",
       "0                    False                  True              True   \n",
       "1                    False                  True              True   \n",
       "\n",
       "   active_mm_user  active_formal_nbfi_user active_informal_nbfi_user  \\\n",
       "0           False                    False                     False   \n",
       "1           False                    False                     False   \n",
       "\n",
       "  nonreg_active_mm_user  num_formal_institutions_last_year  \\\n",
       "0                 False                                  1   \n",
       "1                 False                                  1   \n",
       "\n",
       "   num_informal_institutions_last_year  num_financial_activities_last_year  \n",
       "0                                    0                                   1  \n",
       "1                                    0                                   0  \n",
       "\n",
       "[2 rows x 59 columns]"
      ]
     },
     "execution_count": 49,
     "metadata": {},
     "output_type": "execute_result"
    }
   ],
   "source": [
    "features.head(2)"
   ]
  },
  {
   "cell_type": "code",
   "execution_count": 50,
   "metadata": {},
   "outputs": [
    {
     "data": {
      "text/html": [
       "<div>\n",
       "<style scoped>\n",
       "    .dataframe tbody tr th:only-of-type {\n",
       "        vertical-align: middle;\n",
       "    }\n",
       "\n",
       "    .dataframe tbody tr th {\n",
       "        vertical-align: top;\n",
       "    }\n",
       "\n",
       "    .dataframe thead th {\n",
       "        text-align: right;\n",
       "    }\n",
       "</style>\n",
       "<table border=\"1\" class=\"dataframe\">\n",
       "  <thead>\n",
       "    <tr style=\"text-align: right;\">\n",
       "      <th></th>\n",
       "      <th>row_id</th>\n",
       "      <th>poverty_probability</th>\n",
       "    </tr>\n",
       "  </thead>\n",
       "  <tbody>\n",
       "    <tr>\n",
       "      <th>0</th>\n",
       "      <td>0</td>\n",
       "      <td>0.515</td>\n",
       "    </tr>\n",
       "    <tr>\n",
       "      <th>1</th>\n",
       "      <td>1</td>\n",
       "      <td>0.981</td>\n",
       "    </tr>\n",
       "  </tbody>\n",
       "</table>\n",
       "</div>"
      ],
      "text/plain": [
       "   row_id  poverty_probability\n",
       "0       0                0.515\n",
       "1       1                0.981"
      ]
     },
     "execution_count": 50,
     "metadata": {},
     "output_type": "execute_result"
    }
   ],
   "source": [
    "values.head(2)"
   ]
  },
  {
   "cell_type": "code",
   "execution_count": 51,
   "metadata": {},
   "outputs": [],
   "source": [
    "# merge features and values for data cleaning\n",
    "\n",
    "ppi_df=features.merge(values, on='row_id')"
   ]
  },
  {
   "cell_type": "code",
   "execution_count": 52,
   "metadata": {},
   "outputs": [
    {
     "data": {
      "text/plain": [
       "row_id                                       0\n",
       "country                                      0\n",
       "is_urban                                     0\n",
       "age                                          0\n",
       "female                                       0\n",
       "married                                      0\n",
       "religion                                     0\n",
       "relationship_to_hh_head                      0\n",
       "education_level                            236\n",
       "literacy                                     0\n",
       "can_add                                      0\n",
       "can_divide                                   0\n",
       "can_calc_percents                            0\n",
       "can_calc_compounding                         0\n",
       "employed_last_year                           0\n",
       "employment_category_last_year                0\n",
       "employment_type_last_year                    0\n",
       "share_hh_income_provided                   305\n",
       "income_ag_livestock_last_year                0\n",
       "income_friends_family_last_year              0\n",
       "income_government_last_year                  0\n",
       "income_own_business_last_year                0\n",
       "income_private_sector_last_year              0\n",
       "income_public_sector_last_year               0\n",
       "num_times_borrowed_last_year                 0\n",
       "borrowing_recency                            0\n",
       "formal_savings                               0\n",
       "informal_savings                             0\n",
       "cash_property_savings                        0\n",
       "has_insurance                                0\n",
       "has_investment                               0\n",
       "bank_interest_rate                       12311\n",
       "mm_interest_rate                         12449\n",
       "mfi_interest_rate                        12399\n",
       "other_fsp_interest_rate                  12361\n",
       "num_shocks_last_year                         0\n",
       "avg_shock_strength_last_year                 0\n",
       "borrowed_for_emergency_last_year             0\n",
       "borrowed_for_daily_expenses_last_year        0\n",
       "borrowed_for_home_or_biz_last_year           0\n",
       "phone_technology                             0\n",
       "can_call                                     0\n",
       "can_text                                     0\n",
       "can_use_internet                             0\n",
       "can_make_transaction                         0\n",
       "phone_ownership                              0\n",
       "advanced_phone_use                           0\n",
       "reg_bank_acct                                0\n",
       "reg_mm_acct                                  0\n",
       "reg_formal_nbfi_account                      0\n",
       "financially_included                         0\n",
       "active_bank_user                             0\n",
       "active_mm_user                               0\n",
       "active_formal_nbfi_user                      0\n",
       "active_informal_nbfi_user                    0\n",
       "nonreg_active_mm_user                        0\n",
       "num_formal_institutions_last_year            0\n",
       "num_informal_institutions_last_year          0\n",
       "num_financial_activities_last_year           0\n",
       "poverty_probability                          0\n",
       "dtype: int64"
      ]
     },
     "execution_count": 52,
     "metadata": {},
     "output_type": "execute_result"
    }
   ],
   "source": [
    "# check for missing values\n",
    "\n",
    "ppi_df.isnull().sum()"
   ]
  },
  {
   "cell_type": "code",
   "execution_count": 53,
   "metadata": {},
   "outputs": [
    {
     "data": {
      "text/plain": [
       "<matplotlib.axes._subplots.AxesSubplot at 0x2c63b98afc8>"
      ]
     },
     "execution_count": 53,
     "metadata": {},
     "output_type": "execute_result"
    },
    {
     "data": {
      "image/png": "[encoded data removed]",
      "text/plain": [
       "<Figure size 792x648 with 2 Axes>"
      ]
     },
     "metadata": {
      "needs_background": "light"
     },
     "output_type": "display_data"
    }
   ],
   "source": [
    "# Compute the correlation matrix\n",
    "corr = ppi_df.corr()\n",
    "\n",
    "# Generate a mask for the upper triangle\n",
    "mask = np.zeros_like(corr, dtype=np.bool)\n",
    "mask[np.triu_indices_from(mask)] = True\n",
    "\n",
    "# Set up the matplotlib figure\n",
    "f, ax = plt.subplots(figsize=(11, 9))\n",
    "\n",
    "# Generate a custom diverging colormap\n",
    "cmap = sns.diverging_palette(220, 10, as_cmap=True)\n",
    "\n",
    "ax.set_title('Correlation Matrix')\n",
    "\n",
    "# Draw the heatmap with the mask and correct aspect ratio\n",
    "sns.heatmap(corr, mask=mask, cmap=cmap, vmax=.3, center=0,\n",
    "            square=True, linewidths=.5, cbar_kws={\"shrink\": .5})"
   ]
  },
  {
   "cell_type": "code",
   "execution_count": 54,
   "metadata": {},
   "outputs": [],
   "source": [
    "# drop columns with the most missing values\n",
    "\n",
    "ppi_df.drop('bank_interest_rate', axis = 1, inplace = True)\n",
    "ppi_df.drop('mm_interest_rate', axis = 1, inplace = True)\n",
    "ppi_df.drop('mfi_interest_rate', axis = 1, inplace = True)\n",
    "ppi_df.drop('other_fsp_interest_rate', axis = 1, inplace = True)"
   ]
  },
  {
   "cell_type": "code",
   "execution_count": 55,
   "metadata": {},
   "outputs": [
    {
     "data": {
      "text/plain": [
       "0.01873015873015873"
      ]
     },
     "execution_count": 55,
     "metadata": {},
     "output_type": "execute_result"
    }
   ],
   "source": [
    "# for remaining two variables, check what percentage of data is missing\n",
    "# for education_level:\n",
    "ppi_df['education_level'].isnull().sum()/ppi_df['education_level'].isnull().count()"
   ]
  },
  {
   "cell_type": "code",
   "execution_count": 56,
   "metadata": {},
   "outputs": [
    {
     "data": {
      "text/plain": [
       "0.024206349206349207"
      ]
     },
     "execution_count": 56,
     "metadata": {},
     "output_type": "execute_result"
    }
   ],
   "source": [
    "# for share_hh_income_provided:\n",
    "ppi_df['share_hh_income_provided'].isnull().sum()/ppi_df['share_hh_income_provided'].isnull().count()"
   ]
  },
  {
   "cell_type": "code",
   "execution_count": 57,
   "metadata": {},
   "outputs": [
    {
     "data": {
      "text/plain": [
       "[1.0, 0.0, 2.0, 3.0, nan]"
      ]
     },
     "execution_count": 57,
     "metadata": {},
     "output_type": "execute_result"
    }
   ],
   "source": [
    "# since both percentages are quite small, we can fill in the missing values\n",
    "# first explore the two variables\n",
    "ppi_df['education_level'].unique().tolist()"
   ]
  },
  {
   "cell_type": "code",
   "execution_count": 58,
   "metadata": {},
   "outputs": [],
   "source": [
    "# since this is a discrete variable with four available values\n",
    "# we can use the mode to fill in the missing values\n",
    "\n",
    "ppi_df.education_level.fillna(ppi_df.education_level.mode()[0], inplace=True)"
   ]
  },
  {
   "cell_type": "code",
   "execution_count": 16,
   "metadata": {},
   "outputs": [
    {
     "data": {
      "text/plain": [
       "[1.0, nan, 2.0, 5.0, 3.0, 4.0]"
      ]
     },
     "execution_count": 16,
     "metadata": {},
     "output_type": "execute_result"
    }
   ],
   "source": [
    "# now for share_hh_income_provided\n",
    "\n",
    "ppi_df['share_hh_income_provided'].unique().tolist()"
   ]
  },
  {
   "cell_type": "code",
   "execution_count": 17,
   "metadata": {},
   "outputs": [
    {
     "data": {
      "text/plain": [
       "<matplotlib.collections.PathCollection at 0x2c63bac7d48>"
      ]
     },
     "execution_count": 17,
     "metadata": {},
     "output_type": "execute_result"
    },
    {
     "data": {
      "image/png": "[encoded data removed]",
      "text/plain": [
       "<Figure size 432x288 with 1 Axes>"
      ]
     },
     "metadata": {
      "needs_background": "light"
     },
     "output_type": "display_data"
    }
   ],
   "source": [
    "# this is also a discrete variable with five available values\n",
    "# however, it is possible that this is tied to relationship to hh head \n",
    "\n",
    "plt.scatter(ppi_df['relationship_to_hh_head'], ppi_df['share_hh_income_provided'])"
   ]
  },
  {
   "cell_type": "code",
   "execution_count": 18,
   "metadata": {},
   "outputs": [
    {
     "data": {
      "text/plain": [
       "<seaborn.axisgrid.FacetGrid at 0x2c63bf52048>"
      ]
     },
     "execution_count": 18,
     "metadata": {},
     "output_type": "execute_result"
    },
    {
     "data": {
      "image/png": "[encoded data removed]",
      "text/plain": [
       "<Figure size 360x360 with 1 Axes>"
      ]
     },
     "metadata": {
      "needs_background": "light"
     },
     "output_type": "display_data"
    }
   ],
   "source": [
    "# use a seaborn plot function to give a better visualiation\n",
    "\n",
    "sns.catplot(x=\"relationship_to_hh_head\", y=\"share_hh_income_provided\", data=ppi_df)"
   ]
  },
  {
   "cell_type": "code",
   "execution_count": 19,
   "metadata": {},
   "outputs": [],
   "source": [
    "# there is no immediate apparent trend that emerges\n",
    "# I will also use the mode to fill in the missing data for this variable\n",
    "\n",
    "ppi_df.share_hh_income_provided.fillna(ppi_df.share_hh_income_provided.mode()[0], inplace=True)"
   ]
  },
  {
   "cell_type": "code",
   "execution_count": 20,
   "metadata": {},
   "outputs": [
    {
     "data": {
      "text/plain": [
       "<bound method Series.sort_values of row_id                                   0\n",
       "country                                  0\n",
       "is_urban                                 0\n",
       "age                                      0\n",
       "female                                   0\n",
       "married                                  0\n",
       "religion                                 0\n",
       "relationship_to_hh_head                  0\n",
       "education_level                          0\n",
       "literacy                                 0\n",
       "can_add                                  0\n",
       "can_divide                               0\n",
       "can_calc_percents                        0\n",
       "can_calc_compounding                     0\n",
       "employed_last_year                       0\n",
       "employment_category_last_year            0\n",
       "employment_type_last_year                0\n",
       "share_hh_income_provided                 0\n",
       "income_ag_livestock_last_year            0\n",
       "income_friends_family_last_year          0\n",
       "income_government_last_year              0\n",
       "income_own_business_last_year            0\n",
       "income_private_sector_last_year          0\n",
       "income_public_sector_last_year           0\n",
       "num_times_borrowed_last_year             0\n",
       "borrowing_recency                        0\n",
       "formal_savings                           0\n",
       "informal_savings                         0\n",
       "cash_property_savings                    0\n",
       "has_insurance                            0\n",
       "has_investment                           0\n",
       "num_shocks_last_year                     0\n",
       "avg_shock_strength_last_year             0\n",
       "borrowed_for_emergency_last_year         0\n",
       "borrowed_for_daily_expenses_last_year    0\n",
       "borrowed_for_home_or_biz_last_year       0\n",
       "phone_technology                         0\n",
       "can_call                                 0\n",
       "can_text                                 0\n",
       "can_use_internet                         0\n",
       "can_make_transaction                     0\n",
       "phone_ownership                          0\n",
       "advanced_phone_use                       0\n",
       "reg_bank_acct                            0\n",
       "reg_mm_acct                              0\n",
       "reg_formal_nbfi_account                  0\n",
       "financially_included                     0\n",
       "active_bank_user                         0\n",
       "active_mm_user                           0\n",
       "active_formal_nbfi_user                  0\n",
       "active_informal_nbfi_user                0\n",
       "nonreg_active_mm_user                    0\n",
       "num_formal_institutions_last_year        0\n",
       "num_informal_institutions_last_year      0\n",
       "num_financial_activities_last_year       0\n",
       "poverty_probability                      0\n",
       "dtype: int64>"
      ]
     },
     "execution_count": 20,
     "metadata": {},
     "output_type": "execute_result"
    }
   ],
   "source": [
    "# double check that all missing values are cleaned\n",
    "\n",
    "ppi_df.isnull().sum().sort_values"
   ]
  },
  {
   "cell_type": "code",
   "execution_count": 42,
   "metadata": {},
   "outputs": [
    {
     "data": {
      "text/plain": [
       "row_id                                     int64\n",
       "country                                   object\n",
       "is_urban                                    bool\n",
       "age                                      float64\n",
       "female                                      bool\n",
       "married                                     bool\n",
       "religion                                  object\n",
       "relationship_to_hh_head                   object\n",
       "education_level                          float64\n",
       "literacy                                    bool\n",
       "can_add                                     bool\n",
       "can_divide                                  bool\n",
       "can_calc_percents                           bool\n",
       "can_calc_compounding                        bool\n",
       "employed_last_year                          bool\n",
       "employment_category_last_year             object\n",
       "employment_type_last_year                 object\n",
       "share_hh_income_provided                 float64\n",
       "income_ag_livestock_last_year               bool\n",
       "income_friends_family_last_year             bool\n",
       "income_government_last_year                 bool\n",
       "income_own_business_last_year               bool\n",
       "income_private_sector_last_year             bool\n",
       "income_public_sector_last_year              bool\n",
       "num_times_borrowed_last_year               int64\n",
       "borrowing_recency                          int64\n",
       "formal_savings                              bool\n",
       "informal_savings                            bool\n",
       "cash_property_savings                       bool\n",
       "has_insurance                               bool\n",
       "has_investment                              bool\n",
       "bank_interest_rate                       float64\n",
       "mm_interest_rate                         float64\n",
       "mfi_interest_rate                        float64\n",
       "other_fsp_interest_rate                  float64\n",
       "num_shocks_last_year                       int64\n",
       "avg_shock_strength_last_year             float64\n",
       "borrowed_for_emergency_last_year            bool\n",
       "borrowed_for_daily_expenses_last_year       bool\n",
       "borrowed_for_home_or_biz_last_year          bool\n",
       "phone_technology                           int64\n",
       "can_call                                    bool\n",
       "can_text                                    bool\n",
       "can_use_internet                            bool\n",
       "can_make_transaction                        bool\n",
       "phone_ownership                            int64\n",
       "advanced_phone_use                          bool\n",
       "reg_bank_acct                               bool\n",
       "reg_mm_acct                                 bool\n",
       "reg_formal_nbfi_account                     bool\n",
       "financially_included                        bool\n",
       "active_bank_user                            bool\n",
       "active_mm_user                              bool\n",
       "active_formal_nbfi_user                     bool\n",
       "active_informal_nbfi_user                   bool\n",
       "nonreg_active_mm_user                       bool\n",
       "num_formal_institutions_last_year          int64\n",
       "num_informal_institutions_last_year        int64\n",
       "num_financial_activities_last_year         int64\n",
       "poverty_probability                      float64\n",
       "dtype: object"
      ]
     },
     "execution_count": 42,
     "metadata": {},
     "output_type": "execute_result"
    }
   ],
   "source": [
    "# now we will check the data type of each variable and convert boolean or categorical variables\n",
    "\n",
    "ppi_df.dtypes"
   ]
  },
  {
   "cell_type": "code",
   "execution_count": 59,
   "metadata": {},
   "outputs": [],
   "source": [
    "# first, replace boolean values\n",
    "\n",
    "for col in ppi_df.select_dtypes(include=[bool]):\n",
    "    ppi_df[col].replace(True, 1, inplace=True)\n",
    "    #ppi_df[col].replace(False, 1, inplace=True)"
   ]
  },
  {
   "cell_type": "code",
   "execution_count": 60,
   "metadata": {},
   "outputs": [
    {
     "data": {
      "text/plain": [
       "7028.0"
      ]
     },
     "execution_count": 60,
     "metadata": {},
     "output_type": "execute_result"
    }
   ],
   "source": [
    "ppi_df['female'].sum()"
   ]
  },
  {
   "cell_type": "code",
   "execution_count": 23,
   "metadata": {},
   "outputs": [
    {
     "data": {
      "text/plain": [
       "row_id                                     int64\n",
       "country                                   object\n",
       "is_urban                                 float64\n",
       "age                                      float64\n",
       "female                                   float64\n",
       "married                                  float64\n",
       "religion                                  object\n",
       "relationship_to_hh_head                   object\n",
       "education_level                          float64\n",
       "literacy                                 float64\n",
       "can_add                                  float64\n",
       "can_divide                               float64\n",
       "can_calc_percents                        float64\n",
       "can_calc_compounding                     float64\n",
       "employed_last_year                       float64\n",
       "employment_category_last_year             object\n",
       "employment_type_last_year                 object\n",
       "share_hh_income_provided                 float64\n",
       "income_ag_livestock_last_year            float64\n",
       "income_friends_family_last_year          float64\n",
       "income_government_last_year              float64\n",
       "income_own_business_last_year            float64\n",
       "income_private_sector_last_year          float64\n",
       "income_public_sector_last_year           float64\n",
       "num_times_borrowed_last_year               int64\n",
       "borrowing_recency                          int64\n",
       "formal_savings                           float64\n",
       "informal_savings                         float64\n",
       "cash_property_savings                    float64\n",
       "has_insurance                            float64\n",
       "has_investment                           float64\n",
       "num_shocks_last_year                       int64\n",
       "avg_shock_strength_last_year             float64\n",
       "borrowed_for_emergency_last_year         float64\n",
       "borrowed_for_daily_expenses_last_year    float64\n",
       "borrowed_for_home_or_biz_last_year       float64\n",
       "phone_technology                           int64\n",
       "can_call                                 float64\n",
       "can_text                                 float64\n",
       "can_use_internet                         float64\n",
       "can_make_transaction                     float64\n",
       "phone_ownership                            int64\n",
       "advanced_phone_use                       float64\n",
       "reg_bank_acct                            float64\n",
       "reg_mm_acct                              float64\n",
       "reg_formal_nbfi_account                  float64\n",
       "financially_included                     float64\n",
       "active_bank_user                         float64\n",
       "active_mm_user                           float64\n",
       "active_formal_nbfi_user                  float64\n",
       "active_informal_nbfi_user                float64\n",
       "nonreg_active_mm_user                    float64\n",
       "num_formal_institutions_last_year          int64\n",
       "num_informal_institutions_last_year        int64\n",
       "num_financial_activities_last_year         int64\n",
       "poverty_probability                      float64\n",
       "dtype: object"
      ]
     },
     "execution_count": 23,
     "metadata": {},
     "output_type": "execute_result"
    }
   ],
   "source": [
    "ppi_df.dtypes"
   ]
  },
  {
   "cell_type": "code",
   "execution_count": 391,
   "metadata": {},
   "outputs": [],
   "source": [
    "# change remaining object variables into categories and assign category codes\n",
    "\n",
    "for col in ppi_df.select_dtypes(include=[object]):\n",
    "    ppi_df[col] = ppi_df[col].astype('category')\n",
    "    ppi_df[col]=ppi_df[col].cat.codes\n"
   ]
  },
  {
   "cell_type": "code",
   "execution_count": 392,
   "metadata": {},
   "outputs": [
    {
     "data": {
      "text/plain": [
       "row_id                                     int64\n",
       "country                                     int8\n",
       "is_urban                                 float64\n",
       "age                                      float64\n",
       "female                                   float64\n",
       "married                                  float64\n",
       "religion                                    int8\n",
       "relationship_to_hh_head                     int8\n",
       "education_level                          float64\n",
       "literacy                                 float64\n",
       "can_add                                  float64\n",
       "can_divide                               float64\n",
       "can_calc_percents                        float64\n",
       "can_calc_compounding                     float64\n",
       "employed_last_year                       float64\n",
       "employment_category_last_year               int8\n",
       "employment_type_last_year                   int8\n",
       "share_hh_income_provided                 float64\n",
       "income_ag_livestock_last_year            float64\n",
       "income_friends_family_last_year          float64\n",
       "income_government_last_year              float64\n",
       "income_own_business_last_year            float64\n",
       "income_private_sector_last_year          float64\n",
       "income_public_sector_last_year           float64\n",
       "num_times_borrowed_last_year               int64\n",
       "borrowing_recency                          int64\n",
       "formal_savings                           float64\n",
       "informal_savings                         float64\n",
       "cash_property_savings                    float64\n",
       "has_insurance                            float64\n",
       "has_investment                           float64\n",
       "num_shocks_last_year                       int64\n",
       "avg_shock_strength_last_year             float64\n",
       "borrowed_for_emergency_last_year         float64\n",
       "borrowed_for_daily_expenses_last_year    float64\n",
       "borrowed_for_home_or_biz_last_year       float64\n",
       "phone_technology                           int64\n",
       "can_call                                 float64\n",
       "can_text                                 float64\n",
       "can_use_internet                         float64\n",
       "can_make_transaction                     float64\n",
       "phone_ownership                            int64\n",
       "advanced_phone_use                       float64\n",
       "reg_bank_acct                            float64\n",
       "reg_mm_acct                              float64\n",
       "reg_formal_nbfi_account                  float64\n",
       "financially_included                     float64\n",
       "active_bank_user                         float64\n",
       "active_mm_user                           float64\n",
       "active_formal_nbfi_user                  float64\n",
       "active_informal_nbfi_user                float64\n",
       "nonreg_active_mm_user                    float64\n",
       "num_formal_institutions_last_year          int64\n",
       "num_informal_institutions_last_year        int64\n",
       "num_financial_activities_last_year         int64\n",
       "poverty_probability                      float64\n",
       "dtype: object"
      ]
     },
     "execution_count": 392,
     "metadata": {},
     "output_type": "execute_result"
    }
   ],
   "source": [
    "# final check\n",
    "\n",
    "ppi_df.dtypes"
   ]
  },
  {
   "cell_type": "code",
   "execution_count": 394,
   "metadata": {},
   "outputs": [
    {
     "data": {
      "text/plain": [
       "num_times_borrowed_last_year       borrowing_recency                     0.839256\n",
       "num_formal_institutions_last_year  num_financial_activities_last_year    0.774544\n",
       "phone_technology                   phone_ownership                       0.757191\n",
       "num_shocks_last_year               avg_shock_strength_last_year          0.678588\n",
       "relationship_to_hh_head            share_hh_income_provided              0.463842\n",
       "country                            religion                              0.456666\n",
       "phone_technology                   num_financial_activities_last_year    0.443644\n",
       "education_level                    phone_technology                      0.439176\n",
       "phone_technology                   num_formal_institutions_last_year     0.406812\n",
       "phone_ownership                    num_formal_institutions_last_year     0.372796\n",
       "dtype: float64"
      ]
     },
     "execution_count": 394,
     "metadata": {},
     "output_type": "execute_result"
    }
   ],
   "source": [
    "# there may be confounding variables in the dataset \n",
    "# here we define some functions to find the variables highly correlated with each other\n",
    "\n",
    "def get_redundant_pairs(df):\n",
    "    pairs_to_drop = set()\n",
    "    cols = df.columns\n",
    "    for i in range(0, df.shape[1]):\n",
    "        for j in range(0, i+1):\n",
    "            pairs_to_drop.add((cols[i], cols[j]))\n",
    "    return pairs_to_drop\n",
    "\n",
    "\n",
    "def get_top_abs_correlations(df, n=10):\n",
    "    au_corr = df.corr().abs().unstack()\n",
    "    labels_to_drop = get_redundant_pairs(df)\n",
    "    au_corr = au_corr.drop(labels=labels_to_drop).sort_values(ascending=False)\n",
    "    return au_corr[0:n]\n",
    "\n",
    "get_top_abs_correlations(ppi_df)"
   ]
  },
  {
   "cell_type": "code",
   "execution_count": 395,
   "metadata": {},
   "outputs": [],
   "source": [
    "# because some explanatory variables are highly correlated, we will drop some of them\n",
    "# this will help us avoid multicollinearity \n",
    "\n",
    "ppi_df.drop('borrowing_recency', axis = 1, inplace = True)\n",
    "ppi_df.drop('employed_last_year', axis = 1, inplace = True)\n",
    "ppi_df.drop('employment_category_last_year', axis = 1, inplace = True)\n",
    "ppi_df.drop('num_formal_institutions_last_year', axis = 1, inplace = True)\n",
    "ppi_df.drop('num_shocks_last_year', axis = 1, inplace = True)"
   ]
  },
  {
   "cell_type": "code",
   "execution_count": 396,
   "metadata": {},
   "outputs": [],
   "source": [
    "# now we will define the features of the model\n",
    "\n",
    "list_of_vars = ppi_df.columns.tolist()\n",
    "list_of_vars.remove('row_id')\n",
    "list_of_vars.remove('poverty_probability')"
   ]
  },
  {
   "cell_type": "code",
   "execution_count": 397,
   "metadata": {},
   "outputs": [],
   "source": [
    "features=list_of_vars"
   ]
  },
  {
   "cell_type": "code",
   "execution_count": 398,
   "metadata": {},
   "outputs": [],
   "source": [
    "target=['poverty_probability']"
   ]
  },
  {
   "cell_type": "code",
   "execution_count": 469,
   "metadata": {},
   "outputs": [],
   "source": [
    "X=ppi_df[features]\n",
    "y=ppi_df[target]"
   ]
  },
  {
   "cell_type": "code",
   "execution_count": 470,
   "metadata": {},
   "outputs": [],
   "source": [
    "# here we will split up the train and test datasets\n",
    "\n",
    "X_train, X_test, y_train, y_test = train_test_split(X, y, test_size=0.2, random_state=324)"
   ]
  },
  {
   "cell_type": "code",
   "execution_count": 471,
   "metadata": {},
   "outputs": [
    {
     "data": {
      "text/plain": [
       "LinearRegression(copy_X=True, fit_intercept=True, n_jobs=None, normalize=False)"
      ]
     },
     "execution_count": 471,
     "metadata": {},
     "output_type": "execute_result"
    }
   ],
   "source": [
    "regressor = LinearRegression()\n",
    "regressor.fit(X_train, y_train)"
   ]
  },
  {
   "cell_type": "code",
   "execution_count": 472,
   "metadata": {},
   "outputs": [
    {
     "data": {
      "text/plain": [
       "array([[0.79306216],\n",
       "       [1.00535917],\n",
       "       [0.4389168 ],\n",
       "       ...,\n",
       "       [0.62389136],\n",
       "       [0.77898849],\n",
       "       [0.54874377]])"
      ]
     },
     "execution_count": 472,
     "metadata": {},
     "output_type": "execute_result"
    }
   ],
   "source": [
    "y_prediction = regressor.predict(X_test)\n",
    "y_prediction"
   ]
  },
  {
   "cell_type": "code",
   "execution_count": 474,
   "metadata": {},
   "outputs": [
    {
     "data": {
      "text/html": [
       "<div>\n",
       "<style scoped>\n",
       "    .dataframe tbody tr th:only-of-type {\n",
       "        vertical-align: middle;\n",
       "    }\n",
       "\n",
       "    .dataframe tbody tr th {\n",
       "        vertical-align: top;\n",
       "    }\n",
       "\n",
       "    .dataframe thead th {\n",
       "        text-align: right;\n",
       "    }\n",
       "</style>\n",
       "<table border=\"1\" class=\"dataframe\">\n",
       "  <thead>\n",
       "    <tr style=\"text-align: right;\">\n",
       "      <th></th>\n",
       "      <th>poverty_probability</th>\n",
       "    </tr>\n",
       "  </thead>\n",
       "  <tbody>\n",
       "    <tr>\n",
       "      <td>count</td>\n",
       "      <td>10080.000000</td>\n",
       "    </tr>\n",
       "    <tr>\n",
       "      <td>mean</td>\n",
       "      <td>0.610946</td>\n",
       "    </tr>\n",
       "    <tr>\n",
       "      <td>std</td>\n",
       "      <td>0.291567</td>\n",
       "    </tr>\n",
       "    <tr>\n",
       "      <td>min</td>\n",
       "      <td>0.000000</td>\n",
       "    </tr>\n",
       "    <tr>\n",
       "      <td>25%</td>\n",
       "      <td>0.394000</td>\n",
       "    </tr>\n",
       "    <tr>\n",
       "      <td>50%</td>\n",
       "      <td>0.633000</td>\n",
       "    </tr>\n",
       "    <tr>\n",
       "      <td>75%</td>\n",
       "      <td>0.879000</td>\n",
       "    </tr>\n",
       "    <tr>\n",
       "      <td>max</td>\n",
       "      <td>1.000000</td>\n",
       "    </tr>\n",
       "  </tbody>\n",
       "</table>\n",
       "</div>"
      ],
      "text/plain": [
       "       poverty_probability\n",
       "count         10080.000000\n",
       "mean              0.610946\n",
       "std               0.291567\n",
       "min               0.000000\n",
       "25%               0.394000\n",
       "50%               0.633000\n",
       "75%               0.879000\n",
       "max               1.000000"
      ]
     },
     "execution_count": 474,
     "metadata": {},
     "output_type": "execute_result"
    }
   ],
   "source": [
    "# original values for comparison\n",
    "\n",
    "y_train.describe()"
   ]
  },
  {
   "cell_type": "code",
   "execution_count": 475,
   "metadata": {},
   "outputs": [],
   "source": [
    "# use the root mean square error to assess fit\n",
    "\n",
    "RMSE1 = sqrt(mean_squared_error(y_true = y_test, y_pred = y_prediction))"
   ]
  },
  {
   "cell_type": "code",
   "execution_count": 476,
   "metadata": {},
   "outputs": [
    {
     "name": "stdout",
     "output_type": "stream",
     "text": [
      "0.25112192280256507\n"
     ]
    }
   ],
   "source": [
    "print(RMSE1)"
   ]
  },
  {
   "cell_type": "code",
   "execution_count": 477,
   "metadata": {},
   "outputs": [],
   "source": [
    "# RMSE is quite large for a probability index of between 0 and 1\n",
    "# try reducing the number of features to improve the model\n",
    "\n",
    "features_reduced=['age', \n",
    "                  'female', \n",
    "                  'is_urban',\n",
    "                  'married', \n",
    "                  'religion', \n",
    "                  'education_level',\n",
    "                  'num_times_borrowed_last_year',\n",
    "                  'phone_ownership',\n",
    "                  'financially_included']"
   ]
  },
  {
   "cell_type": "code",
   "execution_count": 478,
   "metadata": {},
   "outputs": [],
   "source": [
    "X1=ppi_df[features_reduced]"
   ]
  },
  {
   "cell_type": "code",
   "execution_count": 479,
   "metadata": {},
   "outputs": [],
   "source": [
    "X_train, X_test, y_train, y_test = train_test_split(X1, y, test_size=0.2, random_state=324)"
   ]
  },
  {
   "cell_type": "code",
   "execution_count": 480,
   "metadata": {},
   "outputs": [
    {
     "data": {
      "text/plain": [
       "LinearRegression(copy_X=True, fit_intercept=True, n_jobs=None, normalize=False)"
      ]
     },
     "execution_count": 480,
     "metadata": {},
     "output_type": "execute_result"
    }
   ],
   "source": [
    "regressor1 = LinearRegression()\n",
    "regressor1.fit(X_train, y_train)"
   ]
  },
  {
   "cell_type": "code",
   "execution_count": 481,
   "metadata": {},
   "outputs": [
    {
     "data": {
      "text/plain": [
       "array([[0.67777297],\n",
       "       [0.8454907 ],\n",
       "       [0.50467973],\n",
       "       ...,\n",
       "       [0.78863534],\n",
       "       [0.67909188],\n",
       "       [0.64126351]])"
      ]
     },
     "execution_count": 481,
     "metadata": {},
     "output_type": "execute_result"
    }
   ],
   "source": [
    "y_prediction = regressor1.predict(X_test)\n",
    "y_prediction"
   ]
  },
  {
   "cell_type": "code",
   "execution_count": 482,
   "metadata": {},
   "outputs": [
    {
     "data": {
      "text/html": [
       "<div>\n",
       "<style scoped>\n",
       "    .dataframe tbody tr th:only-of-type {\n",
       "        vertical-align: middle;\n",
       "    }\n",
       "\n",
       "    .dataframe tbody tr th {\n",
       "        vertical-align: top;\n",
       "    }\n",
       "\n",
       "    .dataframe thead th {\n",
       "        text-align: right;\n",
       "    }\n",
       "</style>\n",
       "<table border=\"1\" class=\"dataframe\">\n",
       "  <thead>\n",
       "    <tr style=\"text-align: right;\">\n",
       "      <th></th>\n",
       "      <th>poverty_probability</th>\n",
       "    </tr>\n",
       "  </thead>\n",
       "  <tbody>\n",
       "    <tr>\n",
       "      <td>count</td>\n",
       "      <td>2520.000000</td>\n",
       "    </tr>\n",
       "    <tr>\n",
       "      <td>mean</td>\n",
       "      <td>0.612575</td>\n",
       "    </tr>\n",
       "    <tr>\n",
       "      <td>std</td>\n",
       "      <td>0.291164</td>\n",
       "    </tr>\n",
       "    <tr>\n",
       "      <td>min</td>\n",
       "      <td>0.000000</td>\n",
       "    </tr>\n",
       "    <tr>\n",
       "      <td>25%</td>\n",
       "      <td>0.394000</td>\n",
       "    </tr>\n",
       "    <tr>\n",
       "      <td>50%</td>\n",
       "      <td>0.633000</td>\n",
       "    </tr>\n",
       "    <tr>\n",
       "      <td>75%</td>\n",
       "      <td>0.886000</td>\n",
       "    </tr>\n",
       "    <tr>\n",
       "      <td>max</td>\n",
       "      <td>1.000000</td>\n",
       "    </tr>\n",
       "  </tbody>\n",
       "</table>\n",
       "</div>"
      ],
      "text/plain": [
       "       poverty_probability\n",
       "count          2520.000000\n",
       "mean              0.612575\n",
       "std               0.291164\n",
       "min               0.000000\n",
       "25%               0.394000\n",
       "50%               0.633000\n",
       "75%               0.886000\n",
       "max               1.000000"
      ]
     },
     "execution_count": 482,
     "metadata": {},
     "output_type": "execute_result"
    }
   ],
   "source": [
    "# explore the predicted values\n",
    "\n",
    "y_test.describe()"
   ]
  },
  {
   "cell_type": "code",
   "execution_count": 483,
   "metadata": {},
   "outputs": [],
   "source": [
    "RMSE2 = sqrt(mean_squared_error(y_true = y_test, y_pred = y_prediction))"
   ]
  },
  {
   "cell_type": "code",
   "execution_count": 484,
   "metadata": {},
   "outputs": [
    {
     "name": "stdout",
     "output_type": "stream",
     "text": [
      "0.2668154968769119\n"
     ]
    }
   ],
   "source": [
    "print(RMSE2)"
   ]
  },
  {
   "cell_type": "code",
   "execution_count": 485,
   "metadata": {},
   "outputs": [],
   "source": [
    "# reducing number of features did not improve RMSE\n",
    "\n",
    "# because most independent variables have a small range of values \n",
    "# but some variables have a large range of values\n",
    "# try rerunning model after scaling\n",
    "from sklearn.preprocessing import StandardScaler"
   ]
  },
  {
   "cell_type": "code",
   "execution_count": 419,
   "metadata": {},
   "outputs": [],
   "source": [
    "X2 = StandardScaler().fit_transform(ppi_df[features])"
   ]
  },
  {
   "cell_type": "code",
   "execution_count": 486,
   "metadata": {},
   "outputs": [
    {
     "data": {
      "text/plain": [
       "LinearRegression(copy_X=True, fit_intercept=True, n_jobs=None, normalize=False)"
      ]
     },
     "execution_count": 486,
     "metadata": {},
     "output_type": "execute_result"
    }
   ],
   "source": [
    "# test model with scaled features, using all features\n",
    "X_train, X_test, y_train, y_test = train_test_split(X2, y, test_size=0.2, random_state=324)\n",
    "regressor1 = LinearRegression()\n",
    "regressor1.fit(X_train, y_train)"
   ]
  },
  {
   "cell_type": "code",
   "execution_count": 487,
   "metadata": {},
   "outputs": [
    {
     "data": {
      "text/plain": [
       "array([[0.7846682 ],\n",
       "       [1.00562184],\n",
       "       [0.4360937 ],\n",
       "       ...,\n",
       "       [0.62114234],\n",
       "       [0.77433333],\n",
       "       [0.55415862]])"
      ]
     },
     "execution_count": 487,
     "metadata": {},
     "output_type": "execute_result"
    }
   ],
   "source": [
    "y_prediction = regressor1.predict(X_test)\n",
    "y_prediction"
   ]
  },
  {
   "cell_type": "code",
   "execution_count": 488,
   "metadata": {},
   "outputs": [],
   "source": [
    "RMSE3 = sqrt(mean_squared_error(y_true = y_test, y_pred = y_prediction))"
   ]
  },
  {
   "cell_type": "code",
   "execution_count": 489,
   "metadata": {},
   "outputs": [
    {
     "name": "stdout",
     "output_type": "stream",
     "text": [
      "0.25115042160464285\n"
     ]
    }
   ],
   "source": [
    "print(RMSE3)"
   ]
  },
  {
   "cell_type": "code",
   "execution_count": 546,
   "metadata": {},
   "outputs": [
    {
     "data": {
      "text/plain": [
       "array([[0.67777297],\n",
       "       [0.8454907 ],\n",
       "       [0.50467973],\n",
       "       ...,\n",
       "       [0.78863534],\n",
       "       [0.67909188],\n",
       "       [0.64126351]])"
      ]
     },
     "execution_count": 546,
     "metadata": {},
     "output_type": "execute_result"
    }
   ],
   "source": [
    "# try this on the reduced features dataset\n",
    "\n",
    "X3 = StandardScaler().fit_transform(ppi_df[features_reduced])\n",
    "X_train, X_test, y_train, y_test = train_test_split(X3, y, test_size=0.2, random_state=324)\n",
    "regressor1_a = LinearRegression()\n",
    "regressor1_a.fit(X_train, y_train)\n",
    "\n",
    "y_prediction = regressor1_a.predict(X_test)\n",
    "y_prediction"
   ]
  },
  {
   "cell_type": "code",
   "execution_count": 547,
   "metadata": {},
   "outputs": [
    {
     "name": "stdout",
     "output_type": "stream",
     "text": [
      "0.26681549687691186\n"
     ]
    }
   ],
   "source": [
    "RMSE3_a = sqrt(mean_squared_error(y_true = y_test, y_pred = y_prediction))\n",
    "print(RMSE3_a)"
   ]
  },
  {
   "cell_type": "code",
   "execution_count": 551,
   "metadata": {},
   "outputs": [
    {
     "data": {
      "text/plain": [
       "Ridge(alpha=1.0, copy_X=True, fit_intercept=True, max_iter=None,\n",
       "      normalize=False, random_state=None, solver='auto', tol=0.001)"
      ]
     },
     "execution_count": 551,
     "metadata": {},
     "output_type": "execute_result"
    }
   ],
   "source": [
    "# try a ridge regression \n",
    "# we will use the scaled version of the dataset with full features\n",
    "X_train, X_test, y_train, y_test = train_test_split(X2, y, test_size=0.2, random_state=324)\n",
    "\n",
    "from sklearn.linear_model import Ridge\n",
    "regressor2 = Ridge()\n",
    "regressor2.fit(X_train, y_train)"
   ]
  },
  {
   "cell_type": "code",
   "execution_count": 552,
   "metadata": {},
   "outputs": [
    {
     "data": {
      "text/plain": [
       "array([[0.79304806],\n",
       "       [1.0053235 ],\n",
       "       [0.43893125],\n",
       "       ...,\n",
       "       [0.62391117],\n",
       "       [0.77896008],\n",
       "       [0.54876586]])"
      ]
     },
     "execution_count": 552,
     "metadata": {},
     "output_type": "execute_result"
    }
   ],
   "source": [
    "y_prediction = regressor2.predict(X_test)\n",
    "y_prediction"
   ]
  },
  {
   "cell_type": "code",
   "execution_count": 553,
   "metadata": {},
   "outputs": [
    {
     "name": "stdout",
     "output_type": "stream",
     "text": [
      "0.251121338819598\n"
     ]
    }
   ],
   "source": [
    "RMSE4 = sqrt(mean_squared_error(y_true = y_test, y_pred = y_prediction))\n",
    "print(RMSE4)"
   ]
  },
  {
   "cell_type": "code",
   "execution_count": 495,
   "metadata": {},
   "outputs": [
    {
     "data": {
      "text/plain": [
       "Lasso(alpha=1.0, copy_X=True, fit_intercept=True, max_iter=1000,\n",
       "      normalize=False, positive=False, precompute=False, random_state=None,\n",
       "      selection='cyclic', tol=0.0001, warm_start=False)"
      ]
     },
     "execution_count": 495,
     "metadata": {},
     "output_type": "execute_result"
    }
   ],
   "source": [
    "#try a Lasso regression\n",
    "\n",
    "from sklearn.linear_model import Lasso\n",
    "\n",
    "regressor3 = Lasso()\n",
    "regressor3.fit(X_train, y_train)"
   ]
  },
  {
   "cell_type": "code",
   "execution_count": 496,
   "metadata": {},
   "outputs": [
    {
     "data": {
      "text/plain": [
       "array([0.61094573, 0.61094573, 0.61094573, ..., 0.61094573, 0.61094573,\n",
       "       0.61094573])"
      ]
     },
     "execution_count": 496,
     "metadata": {},
     "output_type": "execute_result"
    }
   ],
   "source": [
    "y_prediction = regressor3.predict(X_test)\n",
    "y_prediction"
   ]
  },
  {
   "cell_type": "code",
   "execution_count": 497,
   "metadata": {},
   "outputs": [
    {
     "name": "stdout",
     "output_type": "stream",
     "text": [
      "0.291110717967974\n"
     ]
    }
   ],
   "source": [
    "RMSE5 = sqrt(mean_squared_error(y_true = y_test, y_pred = y_prediction))\n",
    "print(RMSE5)"
   ]
  },
  {
   "cell_type": "code",
   "execution_count": 498,
   "metadata": {},
   "outputs": [
    {
     "data": {
      "text/plain": [
       "ElasticNet(alpha=1.0, copy_X=True, fit_intercept=True, l1_ratio=0.5,\n",
       "           max_iter=1000, normalize=False, positive=False, precompute=False,\n",
       "           random_state=None, selection='cyclic', tol=0.0001, warm_start=False)"
      ]
     },
     "execution_count": 498,
     "metadata": {},
     "output_type": "execute_result"
    }
   ],
   "source": [
    "from sklearn.linear_model import ElasticNet\n",
    "\n",
    "regressor4=ElasticNet()\n",
    "regressor4.fit(X_train, y_train)"
   ]
  },
  {
   "cell_type": "code",
   "execution_count": 499,
   "metadata": {},
   "outputs": [
    {
     "data": {
      "text/plain": [
       "array([0.61094573, 0.61094573, 0.61094573, ..., 0.61094573, 0.61094573,\n",
       "       0.61094573])"
      ]
     },
     "execution_count": 499,
     "metadata": {},
     "output_type": "execute_result"
    }
   ],
   "source": [
    "y_prediction = regressor4.predict(X_test)\n",
    "y_prediction"
   ]
  },
  {
   "cell_type": "code",
   "execution_count": 500,
   "metadata": {},
   "outputs": [
    {
     "name": "stdout",
     "output_type": "stream",
     "text": [
      "0.291110717967974\n"
     ]
    }
   ],
   "source": [
    "RMSE6 = sqrt(mean_squared_error(y_true = y_test, y_pred = y_prediction))\n",
    "print(RMSE6)\n",
    "\n",
    "# it looks like the original linear regression model provides the smallest RMSE "
   ]
  },
  {
   "cell_type": "code",
   "execution_count": 561,
   "metadata": {},
   "outputs": [
    {
     "data": {
      "image/png": "[encoded data removed]",
      "text/plain": [
       "<Figure size 720x504 with 1 Axes>"
      ]
     },
     "metadata": {
      "needs_background": "light"
     },
     "output_type": "display_data"
    }
   ],
   "source": [
    "# plot poverty probability \n",
    "\n",
    "fig, ax = plt.subplots(figsize=(10, 7))\n",
    "\n",
    "plt.hist(ppi_df['poverty_probability'], 20, edgecolor='black', linewidth=0.5)\n",
    "\n",
    "plt.xlabel('Poverty Probability Index', fontsize=14)\n",
    "plt.ylabel('Count', fontsize=14)\n",
    "plt.title('Histogram of Poverty Probability Index', fontsize=20)\n",
    "\n",
    "plt.grid(True)\n",
    "\n",
    "plt.show()\n",
    "\n"
   ]
  },
  {
   "cell_type": "code",
   "execution_count": null,
   "metadata": {},
   "outputs": [],
   "source": []
  },
  {
   "cell_type": "code",
   "execution_count": 449,
   "metadata": {},
   "outputs": [],
   "source": [
    "# sum of square of residuals\n",
    "ssr = np.sum((y_prediction - y_test['poverty_probability'])**2)\n",
    "\n",
    "#  total sum of squares\n",
    "sst = np.sum((y_test['poverty_probability'] - np.mean(y_test['poverty_probability']))**2)\n",
    "\n",
    "# R2 score\n",
    "r2_score = 1 - (ssr/sst)"
   ]
  },
  {
   "cell_type": "code",
   "execution_count": 450,
   "metadata": {},
   "outputs": [
    {
     "name": "stdout",
     "output_type": "stream",
     "text": [
      "-7.022041508708554e-06\n"
     ]
    }
   ],
   "source": [
    "print(r2_score)"
   ]
  },
  {
   "cell_type": "code",
   "execution_count": 502,
   "metadata": {},
   "outputs": [
    {
     "data": {
      "text/html": [
       "<div>\n",
       "<style scoped>\n",
       "    .dataframe tbody tr th:only-of-type {\n",
       "        vertical-align: middle;\n",
       "    }\n",
       "\n",
       "    .dataframe tbody tr th {\n",
       "        vertical-align: top;\n",
       "    }\n",
       "\n",
       "    .dataframe thead th {\n",
       "        text-align: right;\n",
       "    }\n",
       "</style>\n",
       "<table border=\"1\" class=\"dataframe\">\n",
       "  <thead>\n",
       "    <tr style=\"text-align: right;\">\n",
       "      <th></th>\n",
       "      <th>Model</th>\n",
       "      <th>RMSE</th>\n",
       "    </tr>\n",
       "  </thead>\n",
       "  <tbody>\n",
       "    <tr>\n",
       "      <td>0</td>\n",
       "      <td>linear regression on full features</td>\n",
       "      <td>0.251122</td>\n",
       "    </tr>\n",
       "    <tr>\n",
       "      <td>1</td>\n",
       "      <td>linear regression on reduced features</td>\n",
       "      <td>0.266815</td>\n",
       "    </tr>\n",
       "    <tr>\n",
       "      <td>2</td>\n",
       "      <td>linear regression on scaled full features</td>\n",
       "      <td>0.251150</td>\n",
       "    </tr>\n",
       "    <tr>\n",
       "      <td>3</td>\n",
       "      <td>Ridge regression on scaled full features</td>\n",
       "      <td>0.251121</td>\n",
       "    </tr>\n",
       "    <tr>\n",
       "      <td>4</td>\n",
       "      <td>Lasso regression on scaled full features</td>\n",
       "      <td>0.291111</td>\n",
       "    </tr>\n",
       "    <tr>\n",
       "      <td>5</td>\n",
       "      <td>ElasticNet regression on full features</td>\n",
       "      <td>0.291111</td>\n",
       "    </tr>\n",
       "  </tbody>\n",
       "</table>\n",
       "</div>"
      ],
      "text/plain": [
       "                                       Model      RMSE\n",
       "0         linear regression on full features  0.251122\n",
       "1      linear regression on reduced features  0.266815\n",
       "2  linear regression on scaled full features  0.251150\n",
       "3   Ridge regression on scaled full features  0.251121\n",
       "4  Lasso regression on scaled full features   0.291111\n",
       "5     ElasticNet regression on full features  0.291111"
      ]
     },
     "execution_count": 502,
     "metadata": {},
     "output_type": "execute_result"
    }
   ],
   "source": [
    "#create dataframe of RMSE for comparison\n",
    "\n",
    "data = [['linear regression on full features', RMSE1], \n",
    "        ['linear regression on reduced features', RMSE2],\n",
    "        ['linear regression on scaled full features', RMSE3],\n",
    "       ['Ridge regression on scaled full features', RMSE4],\n",
    "       ['Lasso regression on scaled full features ', RMSE5],\n",
    "       ['ElasticNet regression on full features', RMSE6]]\n",
    "  \n",
    "# Create the pandas DataFrame \n",
    "df = pd.DataFrame(data, columns = ['Model', 'RMSE']) \n",
    "  \n",
    "# print dataframe. \n",
    "df "
   ]
  },
  {
   "cell_type": "code",
   "execution_count": 516,
   "metadata": {},
   "outputs": [
    {
     "data": {
      "image/png": "[encoded data removed]",
      "text/plain": [
       "<Figure size 432x288 with 1 Axes>"
      ]
     },
     "metadata": {
      "needs_background": "light"
     },
     "output_type": "display_data"
    }
   ],
   "source": [
    "# plot the predicted vs measured values\n",
    "y_prediction = regressor2.predict(X_test)\n",
    "y_prediction\n",
    "\n",
    "fig, ax = plt.subplots()\n",
    "ax.scatter(y_test, y_prediction)\n",
    "ax.plot([y.min(), y.max()], [y.min(), y.max()])\n",
    "ax.set_xlabel('Measured')\n",
    "ax.set_ylabel('Predicted')\n",
    "plt.show()"
   ]
  },
  {
   "cell_type": "code",
   "execution_count": 545,
   "metadata": {},
   "outputs": [
    {
     "data": {
      "text/plain": [
       "Text(0, 0.5, 'Residuals')"
      ]
     },
     "execution_count": 545,
     "metadata": {},
     "output_type": "execute_result"
    },
    {
     "data": {
      "image/png": "[encoded data removed]",
      "text/plain": [
       "<Figure size 1080x720 with 1 Axes>"
      ]
     },
     "metadata": {
      "needs_background": "light"
     },
     "output_type": "display_data"
    }
   ],
   "source": [
    "fig, ax = plt.subplots(figsize=(15, 10))\n",
    "x_plot = plt.scatter(y_prediction, (y_prediction - y_test))\n",
    "plt.title('Residual plot', fontsize=20)\n",
    "plt.xlabel('Predicted Values', fontsize=14)\n",
    "plt.ylabel('Residuals', fontsize=14)"
   ]
  },
  {
   "cell_type": "code",
   "execution_count": 532,
   "metadata": {},
   "outputs": [
    {
     "data": {
      "text/html": [
       "<div>\n",
       "<style scoped>\n",
       "    .dataframe tbody tr th:only-of-type {\n",
       "        vertical-align: middle;\n",
       "    }\n",
       "\n",
       "    .dataframe tbody tr th {\n",
       "        vertical-align: top;\n",
       "    }\n",
       "\n",
       "    .dataframe thead th {\n",
       "        text-align: right;\n",
       "    }\n",
       "</style>\n",
       "<table border=\"1\" class=\"dataframe\">\n",
       "  <thead>\n",
       "    <tr style=\"text-align: right;\">\n",
       "      <th></th>\n",
       "      <th>poverty_probability</th>\n",
       "    </tr>\n",
       "  </thead>\n",
       "  <tbody>\n",
       "    <tr>\n",
       "      <td>count</td>\n",
       "      <td>2520.000000</td>\n",
       "    </tr>\n",
       "    <tr>\n",
       "      <td>mean</td>\n",
       "      <td>0.612575</td>\n",
       "    </tr>\n",
       "    <tr>\n",
       "      <td>std</td>\n",
       "      <td>0.291164</td>\n",
       "    </tr>\n",
       "    <tr>\n",
       "      <td>min</td>\n",
       "      <td>0.000000</td>\n",
       "    </tr>\n",
       "    <tr>\n",
       "      <td>25%</td>\n",
       "      <td>0.394000</td>\n",
       "    </tr>\n",
       "    <tr>\n",
       "      <td>50%</td>\n",
       "      <td>0.633000</td>\n",
       "    </tr>\n",
       "    <tr>\n",
       "      <td>75%</td>\n",
       "      <td>0.886000</td>\n",
       "    </tr>\n",
       "    <tr>\n",
       "      <td>max</td>\n",
       "      <td>1.000000</td>\n",
       "    </tr>\n",
       "  </tbody>\n",
       "</table>\n",
       "</div>"
      ],
      "text/plain": [
       "       poverty_probability\n",
       "count          2520.000000\n",
       "mean              0.612575\n",
       "std               0.291164\n",
       "min               0.000000\n",
       "25%               0.394000\n",
       "50%               0.633000\n",
       "75%               0.886000\n",
       "max               1.000000"
      ]
     },
     "execution_count": 532,
     "metadata": {},
     "output_type": "execute_result"
    }
   ],
   "source": [
    "y_test.describe()"
   ]
  },
  {
   "cell_type": "code",
   "execution_count": null,
   "metadata": {},
   "outputs": [],
   "source": []
  }
 ],
 "metadata": {
  "kernelspec": {
   "display_name": "Python 3",
   "language": "python",
   "name": "python3"
  },
  "language_info": {
   "codemirror_mode": {
    "name": "ipython",
    "version": 3
   },
   "file_extension": ".py",
   "mimetype": "text/x-python",
   "name": "python",
   "nbconvert_exporter": "python",
   "pygments_lexer": "ipython3",
   "version": "3.7.7"
  }
 },
 "nbformat": 4,
 "nbformat_minor": 2
}
